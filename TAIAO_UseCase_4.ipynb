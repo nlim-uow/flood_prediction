{
 "cells": [
  {
   "cell_type": "markdown",
   "metadata": {},
   "source": [
    "We load the required libraries used to train the LSTM "
   ]
  },
  {
   "cell_type": "code",
   "execution_count": 1,
   "metadata": {},
   "outputs": [],
   "source": [
    "import tensorflow as tf\n",
    "import tensorflow.keras as keras\n",
    "import tensorflow.keras.backend as K\n",
    "from tensorflow.keras.layers import LSTM\n",
    "from tensorflow.keras.layers import Dense\n",
    "from tensorflow.keras.preprocessing.sequence import TimeseriesGenerator\n",
    "import pandas as pd\n",
    "import numpy as np\n",
    "import matplotlib.pyplot as pyplot"
   ]
  },
  {
   "cell_type": "markdown",
   "metadata": {},
   "source": [
    "The flood prediction dataset has been encapsulated in the packages below and can be loaded using the code below"
   ]
  },
  {
   "cell_type": "code",
   "execution_count": 2,
   "metadata": {},
   "outputs": [],
   "source": [
    "import taiao.dataset.river as data\n",
    "import taiao.visualization.river as visualiser\n",
    "import taiao.model.river as models"
   ]
  },
  {
   "cell_type": "code",
   "execution_count": 21,
   "metadata": {},
   "outputs": [
    {
     "data": {
      "text/html": [
       "<div>\n",
       "<style scoped>\n",
       "    .dataframe tbody tr th:only-of-type {\n",
       "        vertical-align: middle;\n",
       "    }\n",
       "\n",
       "    .dataframe tbody tr th {\n",
       "        vertical-align: top;\n",
       "    }\n",
       "\n",
       "    .dataframe thead th {\n",
       "        text-align: right;\n",
       "    }\n",
       "</style>\n",
       "<table border=\"1\" class=\"dataframe\">\n",
       "  <thead>\n",
       "    <tr style=\"text-align: right;\">\n",
       "      <th></th>\n",
       "      <th>0</th>\n",
       "      <th>1</th>\n",
       "      <th>2</th>\n",
       "      <th>3</th>\n",
       "    </tr>\n",
       "  </thead>\n",
       "  <tbody>\n",
       "    <tr>\n",
       "      <th>403249</th>\n",
       "      <td>1.2220</td>\n",
       "      <td>0.373</td>\n",
       "      <td>0.5</td>\n",
       "      <td>0.0</td>\n",
       "    </tr>\n",
       "    <tr>\n",
       "      <th>403250</th>\n",
       "      <td>1.2230</td>\n",
       "      <td>0.372</td>\n",
       "      <td>0.5</td>\n",
       "      <td>0.0</td>\n",
       "    </tr>\n",
       "    <tr>\n",
       "      <th>403251</th>\n",
       "      <td>1.2220</td>\n",
       "      <td>0.373</td>\n",
       "      <td>0.5</td>\n",
       "      <td>0.0</td>\n",
       "    </tr>\n",
       "    <tr>\n",
       "      <th>403252</th>\n",
       "      <td>1.2225</td>\n",
       "      <td>0.376</td>\n",
       "      <td>0.0</td>\n",
       "      <td>0.0</td>\n",
       "    </tr>\n",
       "    <tr>\n",
       "      <th>403253</th>\n",
       "      <td>1.2225</td>\n",
       "      <td>0.376</td>\n",
       "      <td>0.0</td>\n",
       "      <td>0.0</td>\n",
       "    </tr>\n",
       "  </tbody>\n",
       "</table>\n",
       "</div>"
      ],
      "text/plain": [
       "             0      1    2    3\n",
       "403249  1.2220  0.373  0.5  0.0\n",
       "403250  1.2230  0.372  0.5  0.0\n",
       "403251  1.2220  0.373  0.5  0.0\n",
       "403252  1.2225  0.376  0.0  0.0\n",
       "403253  1.2225  0.376  0.0  0.0"
      ]
     },
     "execution_count": 21,
     "metadata": {},
     "output_type": "execute_result"
    }
   ],
   "source": [
    "pd.DataFrame(xTrain).tail()"
   ]
  },
  {
   "cell_type": "markdown",
   "metadata": {},
   "source": [
    "We set the hyper-parameters and load the dataset and create the keras data generator "
   ]
  },
  {
   "cell_type": "code",
   "execution_count": 3,
   "metadata": {},
   "outputs": [],
   "source": [
    "forecast=12\n",
    "lookback=288\n",
    "xTrain = data.x('train',forecast)\n",
    "yTrain = data.y('train',forecast)\n",
    "xTest = data.x('test',forecast)\n",
    "yTest = data.y('test',forecast)\n",
    "trainGen=TimeseriesGenerator(xTrain,yTrain,length=lookback,batch_size=3)\n",
    "testGen=TimeseriesGenerator(xTest,yTest,length=lookback,batch_size=1)\n",
    "\n",
    "featureCount=xTrain.shape[1]\n",
    "depth=2"
   ]
  },
  {
   "cell_type": "markdown",
   "metadata": {},
   "source": [
    "Here we define the model and train the output "
   ]
  },
  {
   "cell_type": "code",
   "execution_count": null,
   "metadata": {},
   "outputs": [
    {
     "name": "stdout",
     "output_type": "stream",
     "text": [
      "134315/134322 [============================>.] - ETA: 0s - loss: 0.0027"
     ]
    }
   ],
   "source": [
    "model = models.LSTM(depth,featureCount,lookback, optimizer=\"adam\")\n",
    "history = model.fit(trainGen,validation_data=testGen, epochs=1).history\n",
    "model.save('3DLookBack_3hr_forecast_rmse')"
   ]
  },
  {
   "cell_type": "markdown",
   "metadata": {},
   "source": [
    "We now evaluate the model"
   ]
  },
  {
   "cell_type": "code",
   "execution_count": 7,
   "metadata": {},
   "outputs": [
    {
     "name": "stdout",
     "output_type": "stream",
     "text": [
      "172522/172522 [==============================] - 469s 3ms/step - loss: 9.9911e-04\n"
     ]
    }
   ],
   "source": [
    "model.evaluate(testGen)\n",
    "trainPredict = model.predict(trainGen)\n",
    "testPredict = model.predict(testGen)"
   ]
  },
  {
   "cell_type": "markdown",
   "metadata": {},
   "source": [
    "and plot the output for the flood event of interest"
   ]
  },
  {
   "cell_type": "code",
   "execution_count": 10,
   "metadata": {},
   "outputs": [
    {
     "data": {
      "image/png": "[encoded data removed]",
      "text/plain": [
       "<Figure size 432x288 with 1 Axes>"
      ]
     },
     "metadata": {
      "needs_background": "light"
     },
     "output_type": "display_data"
    }
   ],
   "source": [
    "pyplot.plot(yTest[lookback:])\n",
    "pyplot.plot(testPredict)\n",
    "pyplot.xlim((87800,88500))\n",
    "pyplot.show(block=False)"
   ]
  },
  {
   "cell_type": "markdown",
   "metadata": {},
   "source": [
    "We do a dump of the csv file comparing the predicted river level to the actual river level"
   ]
  },
  {
   "cell_type": "code",
   "execution_count": 13,
   "metadata": {},
   "outputs": [],
   "source": [
    "CsvTemp=np.concatenate([yTest[lookback:].reshape(-1,1),testPredict],axis=1)\n",
    "np.savetxt('3D_Prediction_3hr_rmse.csv',CsvTemp,delimiter=',')"
   ]
  },
  {
   "cell_type": "code",
   "execution_count": null,
   "metadata": {},
   "outputs": [],
   "source": []
  }
 ],
 "metadata": {
  "kernelspec": {
   "display_name": "Python 3",
   "language": "python",
   "name": "python3"
  },
  "language_info": {
   "codemirror_mode": {
    "name": "ipython",
    "version": 3
   },
   "file_extension": ".py",
   "mimetype": "text/x-python",
   "name": "python",
   "nbconvert_exporter": "python",
   "pygments_lexer": "ipython3",
   "version": "3.6.9"
  }
 },
 "nbformat": 4,
 "nbformat_minor": 4
}
